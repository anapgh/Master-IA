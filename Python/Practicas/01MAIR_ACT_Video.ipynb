{
 "cells": [
  {
   "cell_type": "markdown",
   "metadata": {},
   "source": [
    "<img src=\"../img/viu_logo.png\" width=\"200\">\n",
    "\n",
    "## 01MIAR - Actividad Video Valenbici\n",
    "\n",
    "## NumPy y Pandas\n",
    "\n",
    "### Objetivos:\n",
    "- Aplicar diferentes técnicas de tratamiento de estructuras numéricas con Numpy y datos estructurados con Pandas.\n",
    "\n",
    "### Instrucciones:\n",
    "- Crear un notebook de Python3 que servirá como entrega de la actividad.\n",
    "- Separar bien los apartados propuestos con celdas Markdown.\n",
    "- Mantener una estructura limpia, comentando código y secuenciando los apartados con el código correspondiente que resuelva la actividad.\n",
    "- Como criterio de evaluación se tendrá en cuenta el resultado, la consecución del mismo, estilo, comentarios y adecuación. Siempre será tenido en cuenta cualquier detalle técnico avanzado o no visto en clase relacionado con el tema (explicar el porqué y usabilidad).\n",
    "- No está permitido compartir los resultados ni el código en ninguno de los foros.\n",
    "- Revisar los temas 3 y 4, así como las sesiones sobre Numpy y Pandas para aplicar dichos contenidos.\n",
    "\n",
    "### Entrega:\n",
    "- Un solo documento en formato notebook: .ipynb\n",
    "- Las entregas sólo serán validas si se realizan a través del site de la asignatura: Actividades, Actividad Video.\n",
    "\n",
    "### Evaluación\n",
    "- Esta actividad corresponde con el 10% de la nota final de la asignatura.\n",
    "\n",
    "### Fecha Entrega\n",
    "- Convocatoria 1 - 03/06/2022\n",
    "- Convocatoria 2 - 05/09/2022"
   ]
  },
  {
   "cell_type": "markdown",
   "metadata": {},
   "source": [
    "#### Descripción\n",
    "El conjunto de datos \"estaciones_bici.csv\" (fichero disponible en carpeta videos/res en drive) proviene de una descarga de datos del servicio web de la empresa municipal Valenbici, dedicada al alquiler de bicicletas en Valencia.\n",
    "\n",
    "Los datos recabados de este servicio web son de mediciones cada 15 minutos de cada una de las estaciones disponibles:\n",
    "\n",
    "http://www.valenbisi.es/service/carto/json\n",
    "\n",
    "Cada estación está compuesta por un número variable de bornetas (total) donde se pueden anclar las bicicletas. Los datos obtenidos de cada estación (registros) refleja el número de bornetas libres (free) y el número de bicicletas disponibles (available).\n",
    "\n",
    "http://www.valenbisi.es/service/stationdetails/valence/[número de estación]\n",
    "\n",
    "#### Columnas para trabajar:\n",
    "- station: id de la estación\n",
    "- total: número total de bornetas\n",
    "- download_date: timestamp de la descarga de datos\n",
    "- available: número de bicis disponibles\n",
    "\n",
    "#### Actividad\n",
    "- 01 - Carga de datos de csv (estaciones_bici.csv) en un DataFrame\n",
    "- 02 - Obtención del número de estaciones que tienen un total de 30 bornetas\n",
    "- 03 - Número de estación con la media más alta de bicis disponibles\n",
    "- 04 - Realizar el histograma de bicis disponibles de la estación del punto anterior\n",
    "- 05 - Realizar gráfica con  la línea temporal de bicis disponibles de la estación del punto anterior. Pista, es necesario cambiar el índice a uno tipo fecha"
   ]
  },
  {
   "cell_type": "code",
   "execution_count": 1,
   "metadata": {},
   "outputs": [],
   "source": [
    "# Importamos las librerias necesarias\n",
    "import numpy as np\n",
    "import pandas as pd\n",
    "import os\n",
    "import matplotlib.pyplot as plt"
   ]
  },
  {
   "cell_type": "markdown",
   "metadata": {},
   "source": [
    "### 01 - Carga de datos de csv (estaciones_bici.csv) en un DataFrame"
   ]
  },
  {
   "cell_type": "code",
   "execution_count": 2,
   "metadata": {
    "scrolled": true
   },
   "outputs": [
    {
     "data": {
      "text/html": [
       "<div>\n",
       "<style scoped>\n",
       "    .dataframe tbody tr th:only-of-type {\n",
       "        vertical-align: middle;\n",
       "    }\n",
       "\n",
       "    .dataframe tbody tr th {\n",
       "        vertical-align: top;\n",
       "    }\n",
       "\n",
       "    .dataframe thead th {\n",
       "        text-align: right;\n",
       "    }\n",
       "</style>\n",
       "<table border=\"1\" class=\"dataframe\">\n",
       "  <thead>\n",
       "    <tr style=\"text-align: right;\">\n",
       "      <th></th>\n",
       "      <th>_id</th>\n",
       "      <th>available</th>\n",
       "      <th>connected</th>\n",
       "      <th>download_date</th>\n",
       "      <th>station</th>\n",
       "      <th>free</th>\n",
       "      <th>open</th>\n",
       "      <th>ticket</th>\n",
       "      <th>total</th>\n",
       "      <th>updated</th>\n",
       "    </tr>\n",
       "  </thead>\n",
       "  <tbody>\n",
       "    <tr>\n",
       "      <th>0</th>\n",
       "      <td>5c6050a42554172704fccdc0</td>\n",
       "      <td>9</td>\n",
       "      <td>1</td>\n",
       "      <td>2019-02-10 17:25:37.787</td>\n",
       "      <td>64</td>\n",
       "      <td>11</td>\n",
       "      <td>1</td>\n",
       "      <td>0</td>\n",
       "      <td>20</td>\n",
       "      <td>2019-02-10 17:21:13.000</td>\n",
       "    </tr>\n",
       "    <tr>\n",
       "      <th>1</th>\n",
       "      <td>5c6050a42554172704fccdc1</td>\n",
       "      <td>6</td>\n",
       "      <td>1</td>\n",
       "      <td>2019-02-10 17:25:37.787</td>\n",
       "      <td>73</td>\n",
       "      <td>14</td>\n",
       "      <td>1</td>\n",
       "      <td>1</td>\n",
       "      <td>20</td>\n",
       "      <td>2019-02-10 17:24:13.000</td>\n",
       "    </tr>\n",
       "    <tr>\n",
       "      <th>2</th>\n",
       "      <td>5c605be225541729b7d50885</td>\n",
       "      <td>20</td>\n",
       "      <td>1</td>\n",
       "      <td>2019-02-10 18:13:39.827</td>\n",
       "      <td>63</td>\n",
       "      <td>0</td>\n",
       "      <td>1</td>\n",
       "      <td>1</td>\n",
       "      <td>20</td>\n",
       "      <td>2019-02-10 18:09:16.000</td>\n",
       "    </tr>\n",
       "    <tr>\n",
       "      <th>3</th>\n",
       "      <td>5c605be225541729b7d50886</td>\n",
       "      <td>6</td>\n",
       "      <td>1</td>\n",
       "      <td>2019-02-10 18:13:39.827</td>\n",
       "      <td>64</td>\n",
       "      <td>14</td>\n",
       "      <td>1</td>\n",
       "      <td>0</td>\n",
       "      <td>20</td>\n",
       "      <td>2019-02-10 18:12:15.000</td>\n",
       "    </tr>\n",
       "    <tr>\n",
       "      <th>4</th>\n",
       "      <td>5c605be225541729b7d50887</td>\n",
       "      <td>9</td>\n",
       "      <td>1</td>\n",
       "      <td>2019-02-10 18:13:39.827</td>\n",
       "      <td>65</td>\n",
       "      <td>10</td>\n",
       "      <td>1</td>\n",
       "      <td>1</td>\n",
       "      <td>19</td>\n",
       "      <td>2019-02-10 18:09:16.000</td>\n",
       "    </tr>\n",
       "    <tr>\n",
       "      <th>...</th>\n",
       "      <td>...</td>\n",
       "      <td>...</td>\n",
       "      <td>...</td>\n",
       "      <td>...</td>\n",
       "      <td>...</td>\n",
       "      <td>...</td>\n",
       "      <td>...</td>\n",
       "      <td>...</td>\n",
       "      <td>...</td>\n",
       "      <td>...</td>\n",
       "    </tr>\n",
       "    <tr>\n",
       "      <th>27542</th>\n",
       "      <td>5c61face25541729b7d57419</td>\n",
       "      <td>0</td>\n",
       "      <td>1</td>\n",
       "      <td>2019-02-11 23:44:00.786</td>\n",
       "      <td>260</td>\n",
       "      <td>20</td>\n",
       "      <td>1</td>\n",
       "      <td>0</td>\n",
       "      <td>20</td>\n",
       "      <td>2019-02-11 23:42:16.000</td>\n",
       "    </tr>\n",
       "    <tr>\n",
       "      <th>27543</th>\n",
       "      <td>5c61face25541729b7d5741a</td>\n",
       "      <td>15</td>\n",
       "      <td>1</td>\n",
       "      <td>2019-02-11 23:44:00.786</td>\n",
       "      <td>261</td>\n",
       "      <td>4</td>\n",
       "      <td>1</td>\n",
       "      <td>0</td>\n",
       "      <td>19</td>\n",
       "      <td>2019-02-11 23:39:16.000</td>\n",
       "    </tr>\n",
       "    <tr>\n",
       "      <th>27544</th>\n",
       "      <td>5c61face25541729b7d5741b</td>\n",
       "      <td>1</td>\n",
       "      <td>1</td>\n",
       "      <td>2019-02-11 23:44:00.786</td>\n",
       "      <td>268</td>\n",
       "      <td>9</td>\n",
       "      <td>1</td>\n",
       "      <td>1</td>\n",
       "      <td>10</td>\n",
       "      <td>2019-02-11 23:42:16.000</td>\n",
       "    </tr>\n",
       "    <tr>\n",
       "      <th>27545</th>\n",
       "      <td>5c61face25541729b7d5741c</td>\n",
       "      <td>1</td>\n",
       "      <td>1</td>\n",
       "      <td>2019-02-11 23:44:00.786</td>\n",
       "      <td>269</td>\n",
       "      <td>14</td>\n",
       "      <td>1</td>\n",
       "      <td>0</td>\n",
       "      <td>15</td>\n",
       "      <td>2019-02-11 23:39:16.000</td>\n",
       "    </tr>\n",
       "    <tr>\n",
       "      <th>27546</th>\n",
       "      <td>5c61face25541729b7d5741d</td>\n",
       "      <td>8</td>\n",
       "      <td>1</td>\n",
       "      <td>2019-02-11 23:44:00.786</td>\n",
       "      <td>276</td>\n",
       "      <td>12</td>\n",
       "      <td>1</td>\n",
       "      <td>1</td>\n",
       "      <td>20</td>\n",
       "      <td>2019-02-11 23:42:16.000</td>\n",
       "    </tr>\n",
       "  </tbody>\n",
       "</table>\n",
       "<p>27547 rows × 10 columns</p>\n",
       "</div>"
      ],
      "text/plain": [
       "                            _id  available  connected  \\\n",
       "0      5c6050a42554172704fccdc0          9          1   \n",
       "1      5c6050a42554172704fccdc1          6          1   \n",
       "2      5c605be225541729b7d50885         20          1   \n",
       "3      5c605be225541729b7d50886          6          1   \n",
       "4      5c605be225541729b7d50887          9          1   \n",
       "...                         ...        ...        ...   \n",
       "27542  5c61face25541729b7d57419          0          1   \n",
       "27543  5c61face25541729b7d5741a         15          1   \n",
       "27544  5c61face25541729b7d5741b          1          1   \n",
       "27545  5c61face25541729b7d5741c          1          1   \n",
       "27546  5c61face25541729b7d5741d          8          1   \n",
       "\n",
       "                 download_date  station  free  open  ticket  total  \\\n",
       "0      2019-02-10 17:25:37.787       64    11     1       0     20   \n",
       "1      2019-02-10 17:25:37.787       73    14     1       1     20   \n",
       "2      2019-02-10 18:13:39.827       63     0     1       1     20   \n",
       "3      2019-02-10 18:13:39.827       64    14     1       0     20   \n",
       "4      2019-02-10 18:13:39.827       65    10     1       1     19   \n",
       "...                        ...      ...   ...   ...     ...    ...   \n",
       "27542  2019-02-11 23:44:00.786      260    20     1       0     20   \n",
       "27543  2019-02-11 23:44:00.786      261     4     1       0     19   \n",
       "27544  2019-02-11 23:44:00.786      268     9     1       1     10   \n",
       "27545  2019-02-11 23:44:00.786      269    14     1       0     15   \n",
       "27546  2019-02-11 23:44:00.786      276    12     1       1     20   \n",
       "\n",
       "                       updated  \n",
       "0      2019-02-10 17:21:13.000  \n",
       "1      2019-02-10 17:24:13.000  \n",
       "2      2019-02-10 18:09:16.000  \n",
       "3      2019-02-10 18:12:15.000  \n",
       "4      2019-02-10 18:09:16.000  \n",
       "...                        ...  \n",
       "27542  2019-02-11 23:42:16.000  \n",
       "27543  2019-02-11 23:39:16.000  \n",
       "27544  2019-02-11 23:42:16.000  \n",
       "27545  2019-02-11 23:39:16.000  \n",
       "27546  2019-02-11 23:42:16.000  \n",
       "\n",
       "[27547 rows x 10 columns]"
      ]
     },
     "metadata": {},
     "output_type": "display_data"
    }
   ],
   "source": [
    "# Cargamos los datos de csv y lo mostramos\n",
    "ruta = os.path.join(\"videos\", \"res\", \"estaciones_bici.csv\")\n",
    "stations_dataset = pd.read_csv(ruta, sep=';', index_col=0, engine=\"python\")\n",
    "display(stations_dataset)"
   ]
  },
  {
   "cell_type": "markdown",
   "metadata": {},
   "source": [
    "### 02 - Obtención del número de estaciones que tienen un total de 30 bornetas"
   ]
  },
  {
   "cell_type": "code",
   "execution_count": 3,
   "metadata": {},
   "outputs": [
    {
     "name": "stdout",
     "output_type": "stream",
     "text": [
      "Existen 11 estaciones con un total de 30 bornetas\n",
      "Las estaciones son las siguientes: {226, 101, 105, 110, 143, 111, 114, 117, 246, 89, 189}\n"
     ]
    }
   ],
   "source": [
    "# Filtramos por un total de 30 bornetas\n",
    "stations_30bornetas = stations_dataset[stations_dataset['total'] == 30]\n",
    "#display(mask)\n",
    "\n",
    "# Evitamos las estaciones repetidas con un set\n",
    "print(f\"Existen {len(set(stations_30bornetas['station']))} estaciones con un total de 30 bornetas\")\n",
    "print(f\"Las estaciones son las siguientes: {set(stations_30bornetas['station'])}\")\n"
   ]
  },
  {
   "cell_type": "markdown",
   "metadata": {},
   "source": [
    "### 03 - Número de estación con la media más alta de bicis disponibles"
   ]
  },
  {
   "cell_type": "code",
   "execution_count": 4,
   "metadata": {},
   "outputs": [
    {
     "name": "stdout",
     "output_type": "stream",
     "text": [
      "La estación 50 tiene la media más alta de 31.26 bicis disponibles\n"
     ]
    }
   ],
   "source": [
    "# Obtener lista de valores de estaciones y bicis disponibles\n",
    "list_stations = list(stations_dataset['station'])\n",
    "list_available = list(stations_dataset['available'])\n",
    "\n",
    "\n",
    "# Crear un diccionario de listas --> estacion: [numero de bicis]\n",
    "dict_stations_available = {}\n",
    "for i, station in enumerate(list_stations):\n",
    "    if station not in dict_stations_available:\n",
    "        dict_stations_available[station] = []\n",
    "    \n",
    "    dict_stations_available[station].append(list_available[i])  \n",
    "#print(dict_stations_available)\n",
    "\n",
    "\n",
    "# Obtener la media de bicis de cada estacion\n",
    "f_mean = lambda value: np.mean(value)\n",
    "dict_stations_available_mean = {key:(f_mean(np.array(value))) for key, value in dict_stations_available.items()}\n",
    "#print(dict_stations_available_mean)\n",
    "\n",
    "\n",
    "# Obtener la estacion con la media más alta\n",
    "station_max = max(dict_stations_available_mean, key=dict_stations_available_mean.get) \n",
    "print(f\"La estación {station_max} tiene la media más alta de {dict_stations_available_mean[station_max]} bicis disponibles\")\n"
   ]
  },
  {
   "cell_type": "markdown",
   "metadata": {},
   "source": [
    "### 04 - Realizar el histograma de bicis disponibles de la estación del punto anterior"
   ]
  },
  {
   "cell_type": "code",
   "execution_count": 5,
   "metadata": {},
   "outputs": [
    {
     "data": {
      "image/png": "[encoded data removed]",
      "text/plain": [
       "<Figure size 432x288 with 1 Axes>"
      ]
     },
     "metadata": {
      "needs_background": "light"
     },
     "output_type": "display_data"
    }
   ],
   "source": [
    "# Obtenemos las bicis disponibles en esa estacion y creamos su dataframe\n",
    "x_data = range(0, len(dict_stations_available[station_max]))\n",
    "df_available_station = pd.DataFrame(dict_stations_available[station_max], columns=list('A'))\n",
    "\n",
    "# Creamos el histograma\n",
    "ax = df_available_station.plot(kind='hist', title='Estación 50', edgecolor='black')\n",
    "ax.set_xlabel(\"Bicicletas disponibles\")\n",
    "ax.set_ylabel(\"Frecuencia\")\n",
    "plt.show()"
   ]
  },
  {
   "cell_type": "markdown",
   "metadata": {},
   "source": [
    "### 05 - Realizar gráfica con la línea temporal de bicis disponibles de la estación del punto anterior. Pista, es necesario cambiar el índice a uno tipo fecha"
   ]
  },
  {
   "cell_type": "code",
   "execution_count": 6,
   "metadata": {},
   "outputs": [
    {
     "data": {
      "image/png": "[encoded data removed]",
      "text/plain": [
       "<Figure size 432x288 with 1 Axes>"
      ]
     },
     "metadata": {
      "needs_background": "light"
     },
     "output_type": "display_data"
    }
   ],
   "source": [
    "import datetime as dt\n",
    "\n",
    "# Obtener la columna de download_date de la estacion 50\n",
    "list_dates = (stations_dataset[stations_dataset['station'] == 50]['download_date']).astype(\"datetime64\")\n",
    "\n",
    "# Dibujar la gráfica\n",
    "fig,axis = plt.subplots(1,1)\n",
    "axis.plot(list_dates,df_available_station)\n",
    "axis.set_title(\"Evolución temporal de bicicletas disponibles\")\n",
    "axis.set_xlabel(\"Fechas\")\n",
    "axis.set_ylabel(\"Bicicletas disponibles\")\n",
    "plt.xticks(rotation=45)\n",
    "plt.show() "
   ]
  },
  {
   "cell_type": "code",
   "execution_count": null,
   "metadata": {},
   "outputs": [],
   "source": []
  }
 ],
 "metadata": {
  "kernelspec": {
   "display_name": "Python 3 (ipykernel)",
   "language": "python",
   "name": "python3"
  },
  "language_info": {
   "codemirror_mode": {
    "name": "ipython",
    "version": 3
   },
   "file_extension": ".py",
   "mimetype": "text/x-python",
   "name": "python",
   "nbconvert_exporter": "python",
   "pygments_lexer": "ipython3",
   "version": "3.9.7"
  }
 },
 "nbformat": 4,
 "nbformat_minor": 4
}
